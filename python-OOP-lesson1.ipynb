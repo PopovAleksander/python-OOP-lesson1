{
 "cells": [
  {
   "cell_type": "code",
   "execution_count": 1,
   "metadata": {},
   "outputs": [
    {
     "data": {
      "text/plain": [
       "33"
      ]
     },
     "execution_count": 1,
     "metadata": {},
     "output_type": "execute_result"
    }
   ],
   "source": [
    "100 // 3"
   ]
  },
  {
   "cell_type": "code",
   "execution_count": 2,
   "metadata": {},
   "outputs": [
    {
     "data": {
      "text/plain": [
       "1"
      ]
     },
     "execution_count": 2,
     "metadata": {},
     "output_type": "execute_result"
    }
   ],
   "source": [
    "100 % 3"
   ]
  },
  {
   "cell_type": "code",
   "execution_count": 3,
   "metadata": {},
   "outputs": [
    {
     "data": {
      "text/plain": [
       "8192"
      ]
     },
     "execution_count": 3,
     "metadata": {},
     "output_type": "execute_result"
    }
   ],
   "source": [
    "2 ** 13"
   ]
  },
  {
   "cell_type": "code",
   "execution_count": 4,
   "metadata": {},
   "outputs": [
    {
     "data": {
      "text/plain": [
       "True"
      ]
     },
     "execution_count": 4,
     "metadata": {},
     "output_type": "execute_result"
    }
   ],
   "source": [
    "10 == 10"
   ]
  },
  {
   "cell_type": "code",
   "execution_count": 5,
   "metadata": {},
   "outputs": [
    {
     "data": {
      "text/plain": [
       "'d'"
      ]
     },
     "execution_count": 5,
     "metadata": {},
     "output_type": "execute_result"
    }
   ],
   "source": [
    "message = 'data'\n",
    "message[0]"
   ]
  },
  {
   "cell_type": "code",
   "execution_count": 6,
   "metadata": {},
   "outputs": [
    {
     "data": {
      "text/plain": [
       "[0, 1]"
      ]
     },
     "execution_count": 6,
     "metadata": {},
     "output_type": "execute_result"
    }
   ],
   "source": [
    "lst = [message, 3.14, [0,1]]\n",
    "lst[-1]"
   ]
  },
  {
   "cell_type": "code",
   "execution_count": 7,
   "metadata": {},
   "outputs": [],
   "source": [
    "phone_book = {12345678: 'Alex', 87654321: 'Kate'}"
   ]
  },
  {
   "cell_type": "code",
   "execution_count": 8,
   "metadata": {},
   "outputs": [],
   "source": [
    "backpack = {'pen', 'book', 'exercise book'}"
   ]
  },
  {
   "cell_type": "code",
   "execution_count": 9,
   "metadata": {},
   "outputs": [
    {
     "data": {
      "text/plain": [
       "'DATA'"
      ]
     },
     "execution_count": 9,
     "metadata": {},
     "output_type": "execute_result"
    }
   ],
   "source": [
    "message.upper()"
   ]
  },
  {
   "cell_type": "code",
   "execution_count": 10,
   "metadata": {},
   "outputs": [],
   "source": [
    "lst.append('word')"
   ]
  },
  {
   "cell_type": "code",
   "execution_count": 11,
   "metadata": {},
   "outputs": [
    {
     "data": {
      "text/plain": [
       "dict_keys([12345678, 87654321])"
      ]
     },
     "execution_count": 11,
     "metadata": {},
     "output_type": "execute_result"
    }
   ],
   "source": [
    "phone_book.keys()"
   ]
  },
  {
   "cell_type": "code",
   "execution_count": 12,
   "metadata": {},
   "outputs": [],
   "source": [
    "backpack.add('pencil')"
   ]
  },
  {
   "cell_type": "code",
   "execution_count": 13,
   "metadata": {},
   "outputs": [],
   "source": [
    "catalog = {('mersedes','s'): {'цена':2000,'двигатель':3.2,'привод':'передний','год выпуска':2007}}"
   ]
  },
  {
   "cell_type": "code",
   "execution_count": 14,
   "metadata": {},
   "outputs": [],
   "source": [
    "catalog[('bmw','x6')] = {'цена':4000,'двигатель':2.8,'привод':'задний','год выпуска':2015}\n",
    "catalog[('bmw','x4')] = {'цена':2500,'двигатель':1.6,'привод':'полный','год выпуска':2022}\n",
    "catalog[('лада','калина')] = {'цена':3700,'двигатель':2.0,'привод':'полный','год выпуска':2019}\n",
    "catalog[('лада','гранта')] = {'цена':2800,'двигатель':2.4,'привод':'задний','год выпуска':2018}\n",
    "catalog[('уаз','патриот')] = {'цена':1400,'двигатель':1.8,'привод':'задний','год выпуска':2019}\n",
    "catalog[('tayota','camry')] = {'цена':2300,'двигатель':2.2,'привод':'передний','год выпуска':2010}\n",
    "catalog[('tayota','land cruiser')] = {'цена':3600,'двигатель':2.4,'привод':'задний','год выпуска':2002}\n",
    "catalog[('лада','нива')] = {'цена':2100,'двигатель':2.6,'привод':'полный','год выпуска':2015}\n",
    "catalog[('mersedes','с')] = {'цена':1300,'двигатель':1.2,'привод':'передний','год выпуска':2005}"
   ]
  },
  {
   "cell_type": "code",
   "execution_count": 15,
   "metadata": {},
   "outputs": [
    {
     "data": {
      "text/plain": [
       "{('mersedes', 's'): {'цена': 2000,\n",
       "  'двигатель': 3.2,\n",
       "  'привод': 'передний',\n",
       "  'год выпуска': 2007},\n",
       " ('bmw', 'x6'): {'цена': 4000,\n",
       "  'двигатель': 2.8,\n",
       "  'привод': 'задний',\n",
       "  'год выпуска': 2015},\n",
       " ('bmw', 'x4'): {'цена': 2500,\n",
       "  'двигатель': 1.6,\n",
       "  'привод': 'полный',\n",
       "  'год выпуска': 2022},\n",
       " ('лада', 'калина'): {'цена': 3700,\n",
       "  'двигатель': 2.0,\n",
       "  'привод': 'полный',\n",
       "  'год выпуска': 2019},\n",
       " ('лада', 'гранта'): {'цена': 2800,\n",
       "  'двигатель': 2.4,\n",
       "  'привод': 'задний',\n",
       "  'год выпуска': 2018},\n",
       " ('уаз', 'патриот'): {'цена': 1400,\n",
       "  'двигатель': 1.8,\n",
       "  'привод': 'задний',\n",
       "  'год выпуска': 2019},\n",
       " ('tayota', 'camry'): {'цена': 2300,\n",
       "  'двигатель': 2.2,\n",
       "  'привод': 'передний',\n",
       "  'год выпуска': 2010},\n",
       " ('tayota', 'land cruiser'): {'цена': 3600,\n",
       "  'двигатель': 2.4,\n",
       "  'привод': 'задний',\n",
       "  'год выпуска': 2002},\n",
       " ('лада', 'нива'): {'цена': 2100,\n",
       "  'двигатель': 2.6,\n",
       "  'привод': 'полный',\n",
       "  'год выпуска': 2015},\n",
       " ('mersedes', 'с'): {'цена': 1300,\n",
       "  'двигатель': 1.2,\n",
       "  'привод': 'передний',\n",
       "  'год выпуска': 2005}}"
      ]
     },
     "execution_count": 15,
     "metadata": {},
     "output_type": "execute_result"
    }
   ],
   "source": [
    "catalog"
   ]
  },
  {
   "cell_type": "code",
   "execution_count": 16,
   "metadata": {},
   "outputs": [],
   "source": [
    "catalog[('mersedes','s')].update(рассрочка=True)\n",
    "catalog[('bmw','x6')].update(рассрочка=False)\n",
    "catalog[('bmw','x4')].update(рассрочка=True)\n",
    "catalog[('лада','калина')].update(рассрочка=True)\n",
    "catalog[('лада','гранта')].update(рассрочка=False)\n",
    "catalog[('уаз','патриот')].update(рассрочка=True)\n",
    "catalog[('tayota','camry')].update(рассрочка=True)\n",
    "catalog[('tayota','land cruiser')].update(рассрочка=False)\n",
    "catalog[('лада','нива')].update(рассрочка=False)\n",
    "catalog[('mersedes','с')].update(рассрочка=False)"
   ]
  },
  {
   "cell_type": "code",
   "execution_count": 17,
   "metadata": {},
   "outputs": [
    {
     "data": {
      "text/plain": [
       "{('mersedes', 's'): {'цена': 2000,\n",
       "  'двигатель': 3.2,\n",
       "  'привод': 'передний',\n",
       "  'год выпуска': 2007,\n",
       "  'рассрочка': True},\n",
       " ('bmw', 'x6'): {'цена': 4000,\n",
       "  'двигатель': 2.8,\n",
       "  'привод': 'задний',\n",
       "  'год выпуска': 2015,\n",
       "  'рассрочка': False},\n",
       " ('bmw', 'x4'): {'цена': 2500,\n",
       "  'двигатель': 1.6,\n",
       "  'привод': 'полный',\n",
       "  'год выпуска': 2022,\n",
       "  'рассрочка': True},\n",
       " ('лада', 'калина'): {'цена': 3700,\n",
       "  'двигатель': 2.0,\n",
       "  'привод': 'полный',\n",
       "  'год выпуска': 2019,\n",
       "  'рассрочка': True},\n",
       " ('лада', 'гранта'): {'цена': 2800,\n",
       "  'двигатель': 2.4,\n",
       "  'привод': 'задний',\n",
       "  'год выпуска': 2018,\n",
       "  'рассрочка': False},\n",
       " ('уаз', 'патриот'): {'цена': 1400,\n",
       "  'двигатель': 1.8,\n",
       "  'привод': 'задний',\n",
       "  'год выпуска': 2019,\n",
       "  'рассрочка': True},\n",
       " ('tayota', 'camry'): {'цена': 2300,\n",
       "  'двигатель': 2.2,\n",
       "  'привод': 'передний',\n",
       "  'год выпуска': 2010,\n",
       "  'рассрочка': True},\n",
       " ('tayota', 'land cruiser'): {'цена': 3600,\n",
       "  'двигатель': 2.4,\n",
       "  'привод': 'задний',\n",
       "  'год выпуска': 2002,\n",
       "  'рассрочка': False},\n",
       " ('лада', 'нива'): {'цена': 2100,\n",
       "  'двигатель': 2.6,\n",
       "  'привод': 'полный',\n",
       "  'год выпуска': 2015,\n",
       "  'рассрочка': False},\n",
       " ('mersedes', 'с'): {'цена': 1300,\n",
       "  'двигатель': 1.2,\n",
       "  'привод': 'передний',\n",
       "  'год выпуска': 2005,\n",
       "  'рассрочка': False}}"
      ]
     },
     "execution_count": 17,
     "metadata": {},
     "output_type": "execute_result"
    }
   ],
   "source": [
    "catalog"
   ]
  },
  {
   "cell_type": "code",
   "execution_count": 18,
   "metadata": {},
   "outputs": [],
   "source": [
    "def selection(catalog, parameter, criterion):\n",
    "    result = []\n",
    "    for сar in catalog:\n",
    "        if catalog[сar][parameter] == criterion:\n",
    "            result += [сar]\n",
    "    return result"
   ]
  },
  {
   "cell_type": "code",
   "execution_count": 19,
   "metadata": {},
   "outputs": [
    {
     "data": {
      "text/plain": [
       "[('лада', 'калина'), ('уаз', 'патриот')]"
      ]
     },
     "execution_count": 19,
     "metadata": {},
     "output_type": "execute_result"
    }
   ],
   "source": [
    "parameter = 'год выпуска'\n",
    "criterion = 2019\n",
    "selection(catalog, parameter, criterion)"
   ]
  },
  {
   "cell_type": "code",
   "execution_count": 20,
   "metadata": {},
   "outputs": [],
   "source": [
    "#спасибо за потраченное время на проверку этой работы"
   ]
  },
  {
   "cell_type": "code",
   "execution_count": null,
   "metadata": {},
   "outputs": [],
   "source": []
  }
 ],
 "metadata": {
  "kernelspec": {
   "display_name": "Python 3",
   "language": "python",
   "name": "python3"
  },
  "language_info": {
   "codemirror_mode": {
    "name": "ipython",
    "version": 3
   },
   "file_extension": ".py",
   "mimetype": "text/x-python",
   "name": "python",
   "nbconvert_exporter": "python",
   "pygments_lexer": "ipython3",
   "version": "3.7.6"
  }
 },
 "nbformat": 4,
 "nbformat_minor": 4
}
